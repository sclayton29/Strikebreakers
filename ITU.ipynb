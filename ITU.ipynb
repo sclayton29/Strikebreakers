{
 "cells": [
  {
   "cell_type": "code",
   "execution_count": 42,
   "metadata": {
    "collapsed": false
   },
   "outputs": [
    {
     "name": "stdout",
     "output_type": "stream",
     "text": [
      "images/IMG_0563.jpg\n",
      "images/IMG_0582.jpg\n",
      "images/IMG_0601.jpg\n",
      "images/IMG_0604.jpg\n",
      "images/IMG_0638.jpg\n"
     ]
    }
   ],
   "source": [
    "#Importing libraries\n",
    "import pytesseract\n",
    "import glob\n",
    "import pandas as pd\n",
    "import re\n",
    "from PIL import Image\n",
    "import csv\n",
    "\n",
    "#OCRing images and creating txt files\n",
    "for item in glob.glob('images/IMG*jpg'):\n",
    "    print (item)\n",
    "    #print(pytesseract.image_to_string(Image.open(item))):\n",
    "    with open('plain-text/'+item[7:15]+'.txt', 'w') as f:\n",
    "        f.write((pytesseract.image_to_string(Image.open(item))))\n",
    "        f.close\n"
   ]
  },
  {
   "cell_type": "code",
   "execution_count": 133,
   "metadata": {
    "collapsed": false
   },
   "outputs": [],
   "source": [
    "def spouses(name):\n",
    "    if \"Mrs\" in name:\n",
    "        spouse = line.split('Mrs.')\n",
    "        spouse = spouse[1]\n",
    "        return spouse[:-2]"
   ]
  },
  {
   "cell_type": "code",
   "execution_count": 67,
   "metadata": {
    "collapsed": false
   },
   "outputs": [],
   "source": [
    "# Pulling the professions out of each file\n",
    "def profession(lines):\n",
    "    global job\n",
    "    for line in lines:\n",
    "        if '.'  in line: \n",
    "            if \"Mrs.\" and ')' not in line:\n",
    "                job = line.split(\".\")\n",
    "                break\n",
    "\n",
    "def profession_couple(lines):\n",
    "    global job\n",
    "    global job1\n",
    "    global job2\n",
    "    for line in lines:\n",
    "        if '.'  in line: \n",
    "            if \"Mrs.\" and ')' not in line:\n",
    "                job = line.split(\":\")\n",
    "                job1 = job[1].split('.')\n",
    "                job2= job[2].split('.')\n",
    "                break\n",
    "\n"
   ]
  },
  {
   "cell_type": "code",
   "execution_count": 68,
   "metadata": {
    "collapsed": false
   },
   "outputs": [],
   "source": [
    "def gender(name):\n",
    "    global sex\n",
    "    if 'Mrs' in name: \n",
    "        sex = \"Female\"\n",
    "        return sex\n",
    "    elif \"wife\" in name:\n",
    "        sex = 'Female'\n",
    "        return sex\n",
    "    elif 'Miss' in name:\n",
    "        sex = 'Female'\n",
    "        return sex\n",
    "    elif \"Mr\" in name:\n",
    "        sex = 'Male'\n",
    "        return sex\n",
    "    else:\n",
    "        sex = \"Male\"\n",
    "        return sex\n",
    "        \n"
   ]
  },
  {
   "cell_type": "code",
   "execution_count": 138,
   "metadata": {
    "collapsed": false
   },
   "outputs": [
    {
     "ename": "SyntaxError",
     "evalue": "invalid syntax (<ipython-input-138-f8c47d6cef75>, line 29)",
     "output_type": "error",
     "traceback": [
      "\u001b[0;36m  File \u001b[0;32m\"<ipython-input-138-f8c47d6cef75>\"\u001b[0;36m, line \u001b[0;32m29\u001b[0m\n\u001b[0;31m    origin = words[iteration+1:])\u001b[0m\n\u001b[0m                                ^\u001b[0m\n\u001b[0;31mSyntaxError\u001b[0m\u001b[0;31m:\u001b[0m invalid syntax\n"
     ]
    }
   ],
   "source": [
    "#Pulling out place of origin\n",
    "def origins(full):\n",
    "    global origin\n",
    "    index = 0\n",
    "    while index < len(full):\n",
    "        if \"from\" in full[index]:\n",
    "            origin_statement = full[index]\n",
    "            words = origin_statement.split(\" \")\n",
    "            words[:] = [item for item in words if item != '']\n",
    "            iteration = 0\n",
    "            while iteration < len(words):\n",
    "                if 'from' in words[iteration]:\n",
    "                    if iteration <= len(words) -4:\n",
    "                        origin = words[iteration+1] + \" \" + words[iteration+2] + \" \" + words[iteration+3]\n",
    "                    else:\n",
    "                        origin = words[iteration+1:]\n",
    "                iteration +=1\n",
    "            break\n",
    "        elif \"From\" in full[index]:\n",
    "            origin_statement = full[index]\n",
    "            words = origin_statement.split(\" \")\n",
    "            words[:] = [item for item in words if item != '']\n",
    "            iteration = 0\n",
    "            while iteration < len(words):\n",
    "                if 'From' in words[iteration]:\n",
    "                    if iteration <= len(words) - 4:\n",
    "                        origin = words[iteration+1] + \" \" + words[iteration+2] + \" \" + words[iteration+3]\n",
    "                    else:\n",
    "                        origin = words[iteration+1:])\n",
    "                iteration +=1\n",
    "            break\n",
    "        elif \"Born\" in full[index]:\n",
    "            if \"/\" not in full[index]:\n",
    "                origin_statement = full[index]\n",
    "                words = origin_statement.split(\" \")\n",
    "                words[:] = [item for item in words if item != '']\n",
    "                iteration = 0\n",
    "                while iteration < len(words):\n",
    "                    if 'Born' in words[iteration]:\n",
    "                        if iteration <= len(words) - 4:\n",
    "                            origin = words[iteration+1] + \" \" + words[iteration+2] + \" \" + words[iteration+3]\n",
    "                        else:\n",
    "                            origin = words[iteration+1:]\n",
    "                    iteration +=1\n",
    "        index += 1\n",
    "\n",
    "\n"
   ]
  },
  {
   "cell_type": "code",
   "execution_count": 137,
   "metadata": {
    "collapsed": false
   },
   "outputs": [
    {
     "data": {
      "text/html": [
       "<div>\n",
       "<table border=\"1\" class=\"dataframe\">\n",
       "  <thead>\n",
       "    <tr style=\"text-align: right;\">\n",
       "      <th></th>\n",
       "      <th>Image</th>\n",
       "      <th>Name</th>\n",
       "      <th>Profession</th>\n",
       "      <th>Origin</th>\n",
       "      <th>Spouse</th>\n",
       "      <th>Gender</th>\n",
       "      <th>Full Text</th>\n",
       "    </tr>\n",
       "  </thead>\n",
       "  <tbody>\n",
       "    <tr>\n",
       "      <th>0</th>\n",
       "      <td>IMG_0563</td>\n",
       "      <td>TAYLOR, Richard (Dick)</td>\n",
       "      <td>Operator/floorman/TES monitor</td>\n",
       "      <td>['Muskogee,', 'Oklahoma']</td>\n",
       "      <td>None</td>\n",
       "      <td>Male</td>\n",
       "      <td>TAYLOR, Richard (Dick)  Operator/floorman/TES ...</td>\n",
       "    </tr>\n",
       "    <tr>\n",
       "      <th>0</th>\n",
       "      <td>IMG_0582</td>\n",
       "      <td>WAHE, Robert</td>\n",
       "      <td>Floorman</td>\n",
       "      <td>Cedar Rapids, Iowa,</td>\n",
       "      <td>WAHE, wife (\"0.\")</td>\n",
       "      <td>Male</td>\n",
       "      <td>WAHE, Robert and wife (\"0.\")  BOB: Floorman. \"...</td>\n",
       "    </tr>\n",
       "    <tr>\n",
       "      <th>0</th>\n",
       "      <td>IMG_0582</td>\n",
       "      <td>WAHE, wife (\"0.\")</td>\n",
       "      <td>Proofreader</td>\n",
       "      <td>Cedar Rapids, Iowa,</td>\n",
       "      <td>WAHE, Robert</td>\n",
       "      <td>Female</td>\n",
       "      <td>WAHE, Robert and wife (\"0.\")  BOB: Floorman. \"...</td>\n",
       "    </tr>\n",
       "    <tr>\n",
       "      <th>0</th>\n",
       "      <td>IMG_0601</td>\n",
       "      <td>YEITER, Robert Marion</td>\n",
       "      <td>Floorman</td>\n",
       "      <td>Lafay- ette, Ind</td>\n",
       "      <td>None</td>\n",
       "      <td>Male</td>\n",
       "      <td>CONFIDENTIAL INFORMATION FOR ITU REPRESENTATIV...</td>\n",
       "    </tr>\n",
       "    <tr>\n",
       "      <th>0</th>\n",
       "      <td>IMG_0604</td>\n",
       "      <td>rammm,Jmms(Jm0</td>\n",
       "      <td>STEREOTYPER/PRESSMAN</td>\n",
       "      <td>Ft. Smith, Ark</td>\n",
       "      <td>None</td>\n",
       "      <td>Male</td>\n",
       "      <td>CONFIDENTIAL INFORMATION FOR ITU REPRESENTATIV...</td>\n",
       "    </tr>\n",
       "    <tr>\n",
       "      <th>0</th>\n",
       "      <td>IMG_0638</td>\n",
       "      <td>PRIMER, Joan (Mrs. Donald Premer)</td>\n",
       "      <td>TI‘S operator/proofreader</td>\n",
       "      <td>ZnnesviW strikebreaker Donald</td>\n",
       "      <td>Donald Premer</td>\n",
       "      <td>Female</td>\n",
       "      <td>CONFIDENTIAL INFORMATION FOR ITU REPRESENTATIV...</td>\n",
       "    </tr>\n",
       "  </tbody>\n",
       "</table>\n",
       "</div>"
      ],
      "text/plain": [
       "      Image                               Name                     Profession  \\\n",
       "0  IMG_0563             TAYLOR, Richard (Dick)  Operator/floorman/TES monitor   \n",
       "0  IMG_0582                       WAHE, Robert                       Floorman   \n",
       "0  IMG_0582                  WAHE, wife (\"0.\")                    Proofreader   \n",
       "0  IMG_0601              YEITER, Robert Marion                       Floorman   \n",
       "0  IMG_0604                     rammm,Jmms(Jm0           STEREOTYPER/PRESSMAN   \n",
       "0  IMG_0638  PRIMER, Joan (Mrs. Donald Premer)      TI‘S operator/proofreader   \n",
       "\n",
       "                          Origin             Spouse  Gender  \\\n",
       "0      ['Muskogee,', 'Oklahoma']               None    Male   \n",
       "0            Cedar Rapids, Iowa,  WAHE, wife (\"0.\")    Male   \n",
       "0            Cedar Rapids, Iowa,      WAHE, Robert   Female   \n",
       "0               Lafay- ette, Ind               None    Male   \n",
       "0                 Ft. Smith, Ark               None    Male   \n",
       "0  ZnnesviW strikebreaker Donald      Donald Premer  Female   \n",
       "\n",
       "                                           Full Text  \n",
       "0  TAYLOR, Richard (Dick)  Operator/floorman/TES ...  \n",
       "0  WAHE, Robert and wife (\"0.\")  BOB: Floorman. \"...  \n",
       "0  WAHE, Robert and wife (\"0.\")  BOB: Floorman. \"...  \n",
       "0  CONFIDENTIAL INFORMATION FOR ITU REPRESENTATIV...  \n",
       "0  CONFIDENTIAL INFORMATION FOR ITU REPRESENTATIV...  \n",
       "0  CONFIDENTIAL INFORMATION FOR ITU REPRESENTATIV...  "
      ]
     },
     "execution_count": 137,
     "metadata": {},
     "output_type": "execute_result"
    }
   ],
   "source": [
    "#Create dataframe to store extracted data\n",
    "df = pd.DataFrame([], columns=('Image','Name', 'Profession', 'Origin', 'Spouse', 'Gender', 'Full Text'))\n",
    "\n",
    "\n",
    "\n",
    "# Pulling the names out of each of the files\n",
    "for file in glob.glob('plain-text/IMG*'):\n",
    "    with open(file) as f:\n",
    "        fulltext = (\" \".join(line.strip() for line in f)) \n",
    "        full = re.split(\"(?<!Ft)(?<!Mrs)(?<!Mr)(?<!Appx)(?<!appx)[.]\", fulltext)\n",
    "    with open(file) as f_obj:\n",
    "        lines = f_obj.readlines()\n",
    "        for line in lines:\n",
    "            if ',' in line:\n",
    "                name = line\n",
    "                #Getting Spouse's Name\n",
    "                if \"and\" in name:\n",
    "                    origins(full)\n",
    "                    profession_couple(lines)\n",
    "                    name1 = name.split('and')[0]\n",
    "                    spouse = name.split('and')[1]\n",
    "                    name2 = name1.split(',')[0]+ ','+ name.split('and')[1]\n",
    "                    dftemp=pd.DataFrame([[file[11:-4],name1[:-1], job1[0], origin, name2[:-1], gender(name1), fulltext]], \n",
    "                                      columns =('Image','Name', 'Profession', 'Origin','Spouse', 'Gender', 'Full Text'))\n",
    "                    df =df.append(dftemp)\n",
    "                    dftemp=pd.DataFrame([[file[11:-4],name2[:-1], job2[0], origin, name1, gender(name2), fulltext]], \n",
    "                                        columns =('Image','Name','Profession', 'Origin','Spouse','Gender', 'Full Text'))\n",
    "                    df =df.append(dftemp)\n",
    "                    break\n",
    "                else:\n",
    "                    origins(full)\n",
    "                    profession(lines)\n",
    "                    dftemp=pd.DataFrame([[file[11:-4],name[:-1],job[0], origin, spouses(name), gender(name), fulltext]], \n",
    "                                        columns = ('Image','Name', 'Profession', 'Origin','Spouse', 'Gender', 'Full Text'))\n",
    "                    df =df.append(dftemp)\n",
    "                    break\n",
    "\n",
    "df.to_csv('table.csv')\n",
    "df"
   ]
  },
  {
   "cell_type": "code",
   "execution_count": null,
   "metadata": {
    "collapsed": true
   },
   "outputs": [],
   "source": []
  }
 ],
 "metadata": {
  "anaconda-cloud": {},
  "kernelspec": {
   "display_name": "Python [Root]",
   "language": "python",
   "name": "Python [Root]"
  },
  "language_info": {
   "codemirror_mode": {
    "name": "ipython",
    "version": 3
   },
   "file_extension": ".py",
   "mimetype": "text/x-python",
   "name": "python",
   "nbconvert_exporter": "python",
   "pygments_lexer": "ipython3",
   "version": "3.5.2"
  }
 },
 "nbformat": 4,
 "nbformat_minor": 0
}
